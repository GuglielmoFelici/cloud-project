{
 "cells": [
  {
   "cell_type": "code",
   "execution_count": null,
   "id": "61030e6e-913c-4428-90b7-2e54a7426107",
   "metadata": {
    "tags": []
   },
   "outputs": [],
   "source": [
    "print(\"Hello\")"
   ]
  },
  {
   "cell_type": "code",
   "execution_count": null,
   "id": "bfbdf1ec-bea2-41d2-9ee2-770311696f85",
   "metadata": {},
   "outputs": [],
   "source": [
    "spark"
   ]
  },
  {
   "cell_type": "code",
   "execution_count": null,
   "id": "376c77e3-982f-4a42-a19f-8e6f09f49b43",
   "metadata": {},
   "outputs": [],
   "source": [
    "scc = StreamingContext(spark,4)"
   ]
  },
  {
   "cell_type": "code",
   "execution_count": null,
   "id": "3c049030-c9b6-4906-b1e5-fa0d9c7e2927",
   "metadata": {
    "tags": []
   },
   "outputs": [],
   "source": [
    "from pyspark.sql.types import *\n",
    "schema = StructType([StructField(\"test\", StringType(), True)])\n",
    "stream = spark.readStream.schema(schema).format(\"json\").option('path','s3://test-input-emr').load()"
   ]
  },
  {
   "cell_type": "code",
   "execution_count": null,
   "id": "f04e2cb3-80ff-4d5f-b457-910c02ad18fd",
   "metadata": {
    "tags": []
   },
   "outputs": [],
   "source": [
    "df.isStreaming"
   ]
  },
  {
   "cell_type": "code",
   "execution_count": null,
   "id": "dd62a28a-2958-4b3b-983b-0d21803dbec8",
   "metadata": {
    "tags": []
   },
   "outputs": [],
   "source": [
    "extract_test = stream.select(\"test\")\n",
    "extract_test.writeStream\\\n",
    "  .outputMode(\"append\")\\\n",
    "  .format(\"json\")\\\n",
    "  .option(\"path\", \"s3://test-output-emr/\")\\\n",
    "  .option(\"checkpointLocation\", \"s3://test-spark-checkpoints/\")\\\n",
    "  .start().awaitTermination()\n"
   ]
  },
  {
   "cell_type": "code",
   "execution_count": null,
   "id": "3c35f8be-50c0-4429-94f9-861d6ce8765e",
   "metadata": {},
   "outputs": [],
   "source": []
  }
 ],
 "metadata": {
  "kernelspec": {
   "display_name": "PySpark",
   "language": "python",
   "name": "pysparkkernel"
  },
  "language_info": {
   "codemirror_mode": {
    "name": "python",
    "version": 3
   },
   "file_extension": ".py",
   "mimetype": "text/x-python",
   "name": "pyspark",
   "pygments_lexer": "python3"
  }
 },
 "nbformat": 4,
 "nbformat_minor": 5
}

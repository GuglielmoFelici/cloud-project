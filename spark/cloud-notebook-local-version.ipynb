{
 "cells": [
  {
   "cell_type": "markdown",
   "id": "c8c917fb-9c73-471e-9d25-6597c595ef2d",
   "metadata": {},
   "source": [
    "# Initialize spark"
   ]
  },
  {
   "cell_type": "code",
   "execution_count": 1,
   "id": "10ccab52",
   "metadata": {},
   "outputs": [
    {
     "name": "stderr",
     "output_type": "stream",
     "text": [
      "WARNING: An illegal reflective access operation has occurred\n",
      "WARNING: Illegal reflective access by org.apache.spark.unsafe.Platform (file:/opt/apache-spark/jars/spark-unsafe_2.12-3.2.0.jar) to constructor java.nio.DirectByteBuffer(long,int)\n",
      "WARNING: Please consider reporting this to the maintainers of org.apache.spark.unsafe.Platform\n",
      "WARNING: Use --illegal-access=warn to enable warnings of further illegal reflective access operations\n",
      "WARNING: All illegal access operations will be denied in a future release\n",
      "Using Spark's default log4j profile: org/apache/spark/log4j-defaults.properties\n",
      "Setting default log level to \"WARN\".\n",
      "To adjust logging level use sc.setLogLevel(newLevel). For SparkR, use setLogLevel(newLevel).\n",
      "22/06/17 19:29:41 WARN NativeCodeLoader: Unable to load native-hadoop library for your platform... using builtin-java classes where applicable\n"
     ]
    }
   ],
   "source": [
    "## LOCAL ONLY\n",
    "\n",
    "from pyspark.sql import SparkSession\n",
    "from pyspark.sql.functions import explode\n",
    "from pyspark.sql.functions import split\n",
    "from pyspark.streaming import StreamingContext\n",
    "\n",
    "spark = SparkSession \\\n",
    "    .builder \\\n",
    "    .appName(\"CloudProject\") \\\n",
    "    .getOrCreate()\n"
   ]
  },
  {
   "cell_type": "code",
   "execution_count": 2,
   "id": "376c77e3-982f-4a42-a19f-8e6f09f49b43",
   "metadata": {
    "execution": {
     "iopub.execute_input": "2022-06-15T20:50:07.107631Z",
     "iopub.status.busy": "2022-06-15T20:50:07.107389Z",
     "iopub.status.idle": "2022-06-15T20:50:36.036440Z",
     "shell.execute_reply": "2022-06-15T20:50:36.035731Z",
     "shell.execute_reply.started": "2022-06-15T20:50:07.107606Z"
    },
    "tags": []
   },
   "outputs": [],
   "source": [
    "from pyspark.sql.types import *\n",
    "scc = StreamingContext(spark,4)"
   ]
  },
  {
   "cell_type": "markdown",
   "id": "3a28e6cb-6cfc-4246-8559-1999eecbeb1a",
   "metadata": {},
   "source": [
    "# Initialize data streaming"
   ]
  },
  {
   "cell_type": "code",
   "execution_count": 3,
   "id": "6e5f00dd",
   "metadata": {},
   "outputs": [],
   "source": [
    "MONITOR_SOURCE='s3://guglielmo-data-lake/monitor'\n",
    "P_SENSORS_SOURCE='s3://guglielmo-data-lake/measurements/*/p*'\n",
    "T_SENSORS_SOURCE='s3://guglielmo-data-lake/measurements/*/t*'"
   ]
  },
  {
   "cell_type": "code",
   "execution_count": 4,
   "id": "f45cf078",
   "metadata": {},
   "outputs": [],
   "source": [
    "## LOCAL ONLY \n",
    "\n",
    "MONITOR_SOURCE='/home/guglielmo/universita/cloud_computing/progetto/code/mock-data/monitor'\n",
    "P_SENSORS_SOURCE='/home/guglielmo/universita/cloud_computing/progetto/code/mock-data/measurements/pollution'\n",
    "T_SENSORS_SOURCE='/home/guglielmo/universita/cloud_computing/progetto/code/mock-data/measurements/temperature'"
   ]
  },
  {
   "cell_type": "markdown",
   "id": "6021d145-76a6-4b29-a038-3548fbb45460",
   "metadata": {},
   "source": [
    "### Initialize monitor data streaming"
   ]
  },
  {
   "cell_type": "code",
   "execution_count": 5,
   "id": "a897e5ea",
   "metadata": {
    "execution": {
     "iopub.execute_input": "2022-06-15T20:50:36.038025Z",
     "iopub.status.busy": "2022-06-15T20:50:36.037736Z",
     "iopub.status.idle": "2022-06-15T20:50:41.452522Z",
     "shell.execute_reply": "2022-06-15T20:50:41.451705Z",
     "shell.execute_reply.started": "2022-06-15T20:50:36.037994Z"
    },
    "tags": []
   },
   "outputs": [
    {
     "data": {
      "text/plain": [
       "DataFrame[device_id: string, device_health: int, type: string, area: string, customer: string]"
      ]
     },
     "execution_count": 5,
     "metadata": {},
     "output_type": "execute_result"
    }
   ],
   "source": [
    "schema = StructType([\n",
    "    StructField(\"device_id\", StringType(), True),\n",
    "    StructField(\"device_health\", IntegerType(), True),\n",
    "    StructField(\"type\", StringType(), True),\n",
    "    StructField(\"area\", StringType(), True),\n",
    "    StructField(\"customer\", StringType(), True),\n",
    "])\n",
    "monitor_stream = spark.readStream.schema(schema).format(\"json\").option('path',MONITOR_SOURCE).load()\n",
    "monitor_stream"
   ]
  },
  {
   "cell_type": "code",
   "execution_count": 6,
   "id": "f04e2cb3-80ff-4d5f-b457-910c02ad18fd",
   "metadata": {
    "execution": {
     "iopub.execute_input": "2022-06-15T20:50:41.453896Z",
     "iopub.status.busy": "2022-06-15T20:50:41.453724Z",
     "iopub.status.idle": "2022-06-15T20:50:41.522869Z",
     "shell.execute_reply": "2022-06-15T20:50:41.522175Z",
     "shell.execute_reply.started": "2022-06-15T20:50:41.453874Z"
    },
    "tags": []
   },
   "outputs": [
    {
     "data": {
      "text/plain": [
       "True"
      ]
     },
     "execution_count": 6,
     "metadata": {},
     "output_type": "execute_result"
    }
   ],
   "source": [
    "monitor_stream.isStreaming"
   ]
  },
  {
   "cell_type": "markdown",
   "id": "d0b20f86-31e2-463d-9801-72363b3cd88d",
   "metadata": {},
   "source": [
    "### Initialize sensors data streaming"
   ]
  },
  {
   "cell_type": "code",
   "execution_count": 7,
   "id": "30808216",
   "metadata": {
    "execution": {
     "iopub.execute_input": "2022-06-15T20:50:41.524133Z",
     "iopub.status.busy": "2022-06-15T20:50:41.523945Z",
     "iopub.status.idle": "2022-06-15T20:50:41.798463Z",
     "shell.execute_reply": "2022-06-15T20:50:41.797766Z",
     "shell.execute_reply.started": "2022-06-15T20:50:41.524108Z"
    },
    "tags": []
   },
   "outputs": [
    {
     "data": {
      "text/plain": [
       "DataFrame[device_id: string, timestamp: timestamp, humidity: int, temperature: int]"
      ]
     },
     "execution_count": 7,
     "metadata": {},
     "output_type": "execute_result"
    }
   ],
   "source": [
    "schema = StructType([\n",
    "    StructField(\"device_id\", StringType(), True),\n",
    "    StructField(\"timestamp\", TimestampType(), True),\n",
    "    StructField(\"humidity\", IntegerType(), True),\n",
    "    StructField(\"temperature\", IntegerType(), True)\n",
    "])\n",
    "t_sensors_stream = spark.readStream.schema(schema).format(\"json\").option('path',T_SENSORS_SOURCE).load()\n",
    "t_sensors_stream"
   ]
  },
  {
   "cell_type": "code",
   "execution_count": 8,
   "id": "377cbced",
   "metadata": {
    "execution": {
     "iopub.execute_input": "2022-06-15T20:50:41.799913Z",
     "iopub.status.busy": "2022-06-15T20:50:41.799515Z",
     "iopub.status.idle": "2022-06-15T20:50:42.075664Z",
     "shell.execute_reply": "2022-06-15T20:50:42.075070Z",
     "shell.execute_reply.started": "2022-06-15T20:50:41.799874Z"
    },
    "tags": []
   },
   "outputs": [
    {
     "data": {
      "text/plain": [
       "DataFrame[device_id: string, timestamp: timestamp, CO2_level: int]"
      ]
     },
     "execution_count": 8,
     "metadata": {},
     "output_type": "execute_result"
    }
   ],
   "source": [
    "schema = StructType([\n",
    "    StructField(\"device_id\", StringType(), True),\n",
    "    StructField(\"timestamp\", TimestampType(), True),\n",
    "    StructField(\"CO2_level\", IntegerType(), True)\n",
    "])\n",
    "p_sensors_stream = spark.readStream.schema(schema).format(\"json\").option('path',P_SENSORS_SOURCE).load()\n",
    "p_sensors_stream"
   ]
  },
  {
   "cell_type": "code",
   "execution_count": 9,
   "id": "fa2f5537",
   "metadata": {
    "execution": {
     "iopub.execute_input": "2022-06-15T20:50:42.076768Z",
     "iopub.status.busy": "2022-06-15T20:50:42.076587Z",
     "iopub.status.idle": "2022-06-15T20:50:42.138349Z",
     "shell.execute_reply": "2022-06-15T20:50:42.137544Z",
     "shell.execute_reply.started": "2022-06-15T20:50:42.076746Z"
    }
   },
   "outputs": [
    {
     "name": "stdout",
     "output_type": "stream",
     "text": [
      "True True True\n"
     ]
    }
   ],
   "source": [
    "print(monitor_stream.isStreaming, t_sensors_stream.isStreaming, p_sensors_stream.isStreaming)"
   ]
  },
  {
   "cell_type": "code",
   "execution_count": 10,
   "id": "3d697654",
   "metadata": {},
   "outputs": [
    {
     "name": "stderr",
     "output_type": "stream",
     "text": [
      "22/06/17 19:29:43 WARN ResolveWriteToStream: Temporary checkpoint location created which is deleted normally when the query didn't fail: /tmp/temporary-b74fe09d-1be9-473d-94ab-413230e3b4cb. If it's required to delete it under any circumstances, please set spark.sql.streaming.forceDeleteTempCheckpointLocation to true. Important to know deleting temp checkpoint folder is best effort.\n",
      "22/06/17 19:29:43 WARN ResolveWriteToStream: spark.sql.adaptive.enabled is not supported in streaming DataFrames/Datasets and will be disabled.\n",
      "22/06/17 19:29:44 WARN ResolveWriteToStream: Temporary checkpoint location created which is deleted normally when the query didn't fail: /tmp/temporary-9879d256-a723-4d30-9cc9-4e2f7ade8303. If it's required to delete it under any circumstances, please set spark.sql.streaming.forceDeleteTempCheckpointLocation to true. Important to know deleting temp checkpoint folder is best effort.\n",
      "22/06/17 19:29:44 WARN ResolveWriteToStream: spark.sql.adaptive.enabled is not supported in streaming DataFrames/Datasets and will be disabled.\n",
      "22/06/17 19:29:44 WARN ResolveWriteToStream: Temporary checkpoint location created which is deleted normally when the query didn't fail: /tmp/temporary-d09372af-e8ef-4254-ae3f-38c6c0558b9e. If it's required to delete it under any circumstances, please set spark.sql.streaming.forceDeleteTempCheckpointLocation to true. Important to know deleting temp checkpoint folder is best effort.\n",
      "22/06/17 19:29:44 WARN ResolveWriteToStream: spark.sql.adaptive.enabled is not supported in streaming DataFrames/Datasets and will be disabled.\n"
     ]
    },
    {
     "name": "stdout",
     "output_type": "stream",
     "text": [
      "-------------------------------------------\n",
      "Batch: 0\n",
      "-------------------------------------------\n",
      "-------------------------------------------\n",
      "-------------------------------------------\n",
      "Batch: 0\n",
      "-------------------------------------------\n",
      "Batch: 0\n",
      "-------------------------------------------\n",
      "+----------+--------------------+---------+\n",
      "| device_id|           timestamp|CO2_level|\n",
      "+----------+--------------------+---------+\n",
      "|p-88074073|2022-06-17 17:27:...|      436|\n",
      "+----------+--------------------+---------+\n",
      "\n",
      "+----------+--------------------+--------+-----------+\n",
      "| device_id|           timestamp|humidity|temperature|\n",
      "+----------+--------------------+--------+-----------+\n",
      "|t-67464570|2022-06-17 17:26:...|      40|         25|\n",
      "+----------+--------------------+--------+-----------+\n",
      "\n",
      "+----------+-------------+-----------+-----------+-------------+\n",
      "| device_id|device_health|       type|       area|     customer|\n",
      "+----------+-------------+-----------+-----------+-------------+\n",
      "|t-17231251|            0|temperature|residential|   AB-Service|\n",
      "|t-67464570|            3|temperature|residential|   AB-Service|\n",
      "|t-48882030|            0|temperature| industrial|Atlanta Group|\n",
      "|p-34605465|           10|  pollution| industrial|Atlanta Group|\n",
      "|p-45626401|            2|  pollution| industrial|Atlanta Group|\n",
      "|t-68775576|            8|temperature| industrial|   AB-Service|\n",
      "|p-51135281|            9|  pollution|residential|Atlanta Group|\n",
      "|p-86670867|           10|  pollution| industrial|Atlanta Group|\n",
      "|p-36725626|            4|  pollution|residential|Atlanta Group|\n",
      "|t-77155876|            1|temperature|residential|Atlanta Group|\n",
      "|t-43260871|            1|temperature|residential|   AB-Service|\n",
      "|p-88074073|            1|  pollution|residential|Atlanta Group|\n",
      "|p-56728681|            0|  pollution|residential|Atlanta Group|\n",
      "|p-83582524|            7|  pollution|residential|Atlanta Group|\n",
      "|p-04178771|            7|  pollution| industrial|Atlanta Group|\n",
      "|p-32720840|            2|  pollution|residential|Atlanta Group|\n",
      "|t-60211707|            4|temperature| industrial|   AB-Service|\n",
      "|t-46673008|            9|temperature| industrial|Atlanta Group|\n",
      "|p-56047831|            5|  pollution| industrial|Atlanta Group|\n",
      "|t-75583614|            6|temperature| industrial|Atlanta Group|\n",
      "+----------+-------------+-----------+-----------+-------------+\n",
      "only showing top 20 rows\n",
      "\n"
     ]
    }
   ],
   "source": [
    "monitor_query = monitor_stream \\\n",
    "    .writeStream \\\n",
    "    .outputMode(\"append\") \\\n",
    "    .format(\"console\") \\\n",
    "    .start()\n",
    "\n",
    "t_sensors_query = t_sensors_stream \\\n",
    "    .writeStream \\\n",
    "    .outputMode(\"append\") \\\n",
    "    .format(\"console\") \\\n",
    "    .start()\n",
    "\n",
    "p_sensors_query = p_sensors_stream \\\n",
    "    .writeStream \\\n",
    "    .outputMode(\"append\") \\\n",
    "    .format(\"console\") \\\n",
    "    .start()"
   ]
  },
  {
   "cell_type": "code",
   "execution_count": null,
   "id": "94f1c7c5",
   "metadata": {},
   "outputs": [],
   "source": [
    "monitor_query.stop()\n",
    "t_sensors_query.stop()\n",
    "p_sensors_query.stop()"
   ]
  },
  {
   "cell_type": "code",
   "execution_count": null,
   "id": "7e4259bb",
   "metadata": {
    "execution": {
     "iopub.execute_input": "2022-06-15T20:50:42.140020Z",
     "iopub.status.busy": "2022-06-15T20:50:42.139564Z",
     "iopub.status.idle": "2022-06-15T20:53:08.450193Z",
     "shell.execute_reply": "2022-06-15T20:53:08.448916Z",
     "shell.execute_reply.started": "2022-06-15T20:50:42.139983Z"
    },
    "tags": []
   },
   "outputs": [],
   "source": [
    "extract_test = monitor_stream.select(\"device_health\")\n",
    "extract_test.writeStream\\\n",
    "  .outputMode(\"append\")\\\n",
    "  .format(\"json\")\\\n",
    "  .option(\"path\", \"s3://test-output-emr/\")\\\n",
    "  .option(\"checkpointLocation\", \"s3://test-spark-checkpoints/\")\\\n",
    "  .start().awaitTermination()\n",
    "\n",
    "'''extract_test = t_sensors_stream.select(\"humidity\")\n",
    "extract_test.writeStream\\\n",
    "  .outputMode(\"append\")\\\n",
    "  .format(\"json\")\\\n",
    "  .option(\"path\", \"s3://test-output-emr/\")\\\n",
    "  .option(\"checkpointLocation\", \"s3://test-spark-checkpoints/\")\\\n",
    "  .start().awaitTermination()\n",
    "\n",
    "extract_test = monitor_stream.select(\"CO2_level\")\n",
    "extract_test.writeStream\\\n",
    "  .outputMode(\"append\")\\\n",
    "  .format(\"json\")\\\n",
    "  .option(\"path\", \"s3://test-output-emr/\")\\\n",
    "  .option(\"checkpointLocation\", \"s3://test-spark-checkpoints/\")\\\n",
    "  .start().awaitTermination()'''"
   ]
  },
  {
   "cell_type": "code",
   "execution_count": null,
   "id": "3c35f8be-50c0-4429-94f9-861d6ce8765e",
   "metadata": {},
   "outputs": [],
   "source": []
  }
 ],
 "metadata": {
  "kernelspec": {
   "display_name": "Python 3 (ipykernel)",
   "language": "python",
   "name": "python3"
  },
  "language_info": {
   "codemirror_mode": {
    "name": "ipython",
    "version": 3
   },
   "file_extension": ".py",
   "mimetype": "text/x-python",
   "name": "python",
   "nbconvert_exporter": "python",
   "pygments_lexer": "ipython3",
   "version": "3.10.5"
  }
 },
 "nbformat": 4,
 "nbformat_minor": 5
}

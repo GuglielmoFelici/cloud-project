{
 "cells": [
  {
   "cell_type": "markdown",
   "id": "c8c917fb-9c73-471e-9d25-6597c595ef2d",
   "metadata": {},
   "source": [
    "# Initialize spark"
   ]
  },
  {
   "cell_type": "code",
   "execution_count": 1,
   "id": "9f35b394",
   "metadata": {},
   "outputs": [
    {
     "name": "stderr",
     "output_type": "stream",
     "text": [
      "WARNING: An illegal reflective access operation has occurred\n",
      "WARNING: Illegal reflective access by org.apache.spark.unsafe.Platform (file:/opt/apache-spark/jars/spark-unsafe_2.12-3.2.0.jar) to constructor java.nio.DirectByteBuffer(long,int)\n",
      "WARNING: Please consider reporting this to the maintainers of org.apache.spark.unsafe.Platform\n",
      "WARNING: Use --illegal-access=warn to enable warnings of further illegal reflective access operations\n",
      "WARNING: All illegal access operations will be denied in a future release\n",
      "Using Spark's default log4j profile: org/apache/spark/log4j-defaults.properties\n",
      "Setting default log level to \"WARN\".\n",
      "To adjust logging level use sc.setLogLevel(newLevel). For SparkR, use setLogLevel(newLevel).\n",
      "22/06/28 03:02:42 WARN NativeCodeLoader: Unable to load native-hadoop library for your platform... using builtin-java classes where applicable\n"
     ]
    }
   ],
   "source": [
    "from pyspark.sql import SparkSession\n",
    "from pyspark.sql.functions import explode\n",
    "from pyspark.sql.functions import split\n",
    "from pyspark.streaming import StreamingContext\n",
    "\n",
    "spark = SparkSession \\\n",
    "    .builder \\\n",
    "    .appName(\"CloudProject\") \\\n",
    "    .getOrCreate()\n"
   ]
  },
  {
   "cell_type": "code",
   "execution_count": 2,
   "id": "376c77e3-982f-4a42-a19f-8e6f09f49b43",
   "metadata": {
    "execution": {
     "iopub.execute_input": "2022-06-15T20:50:07.107631Z",
     "iopub.status.busy": "2022-06-15T20:50:07.107389Z",
     "iopub.status.idle": "2022-06-15T20:50:36.036440Z",
     "shell.execute_reply": "2022-06-15T20:50:36.035731Z",
     "shell.execute_reply.started": "2022-06-15T20:50:07.107606Z"
    },
    "tags": []
   },
   "outputs": [],
   "source": [
    "from pyspark.sql.types import *\n",
    "scc = StreamingContext(spark,4)"
   ]
  },
  {
   "cell_type": "markdown",
   "id": "3a28e6cb-6cfc-4246-8559-1999eecbeb1a",
   "metadata": {},
   "source": [
    "# Initialize data streaming"
   ]
  },
  {
   "cell_type": "code",
   "execution_count": 3,
   "id": "cfe9acaf",
   "metadata": {},
   "outputs": [],
   "source": [
    "MONITOR_SOURCE='/home/guglielmo/Scaricati/monitor'\n",
    "P_SENSORS_SOURCE='/home/guglielmo/Scaricati/pollution'\n",
    "T_SENSORS_SOURCE='/home/guglielmo/Scaricati/temperature'"
   ]
  },
  {
   "cell_type": "markdown",
   "id": "6021d145-76a6-4b29-a038-3548fbb45460",
   "metadata": {},
   "source": [
    "### Initialize monitor data streaming"
   ]
  },
  {
   "cell_type": "code",
   "execution_count": 4,
   "id": "276f5169",
   "metadata": {
    "execution": {
     "iopub.execute_input": "2022-06-15T20:50:36.038025Z",
     "iopub.status.busy": "2022-06-15T20:50:36.037736Z",
     "iopub.status.idle": "2022-06-15T20:50:41.452522Z",
     "shell.execute_reply": "2022-06-15T20:50:41.451705Z",
     "shell.execute_reply.started": "2022-06-15T20:50:36.037994Z"
    },
    "tags": []
   },
   "outputs": [
    {
     "data": {
      "text/plain": [
       "DataFrame[device_id: string, device_health: int, type: string, area: string, customer: string]"
      ]
     },
     "execution_count": 4,
     "metadata": {},
     "output_type": "execute_result"
    }
   ],
   "source": [
    "schema = StructType([\n",
    "    StructField(\"device_id\", StringType(), True),\n",
    "    StructField(\"device_health\", IntegerType(), True),\n",
    "    StructField(\"type\", StringType(), True),\n",
    "    StructField(\"area\", StringType(), True),\n",
    "    StructField(\"customer\", StringType(), True),\n",
    "])\n",
    "monitor_stream = spark.readStream.schema(schema).format(\"json\").option('path',MONITOR_SOURCE).load()\n",
    "monitor_stream"
   ]
  },
  {
   "cell_type": "code",
   "execution_count": 5,
   "id": "f04e2cb3-80ff-4d5f-b457-910c02ad18fd",
   "metadata": {
    "execution": {
     "iopub.execute_input": "2022-06-15T20:50:41.453896Z",
     "iopub.status.busy": "2022-06-15T20:50:41.453724Z",
     "iopub.status.idle": "2022-06-15T20:50:41.522869Z",
     "shell.execute_reply": "2022-06-15T20:50:41.522175Z",
     "shell.execute_reply.started": "2022-06-15T20:50:41.453874Z"
    },
    "tags": []
   },
   "outputs": [
    {
     "data": {
      "text/plain": [
       "True"
      ]
     },
     "execution_count": 5,
     "metadata": {},
     "output_type": "execute_result"
    }
   ],
   "source": [
    "monitor_stream.isStreaming"
   ]
  },
  {
   "cell_type": "markdown",
   "id": "d0b20f86-31e2-463d-9801-72363b3cd88d",
   "metadata": {},
   "source": [
    "### Initialize sensors data streaming"
   ]
  },
  {
   "cell_type": "code",
   "execution_count": 6,
   "id": "0ddec861",
   "metadata": {
    "execution": {
     "iopub.execute_input": "2022-06-15T20:50:41.524133Z",
     "iopub.status.busy": "2022-06-15T20:50:41.523945Z",
     "iopub.status.idle": "2022-06-15T20:50:41.798463Z",
     "shell.execute_reply": "2022-06-15T20:50:41.797766Z",
     "shell.execute_reply.started": "2022-06-15T20:50:41.524108Z"
    },
    "tags": []
   },
   "outputs": [
    {
     "data": {
      "text/plain": [
       "DataFrame[device_id: string, measured: timestamp, arrived: timestamp, humidity: int, temperature: int]"
      ]
     },
     "execution_count": 6,
     "metadata": {},
     "output_type": "execute_result"
    }
   ],
   "source": [
    "schema = StructType([\n",
    "    StructField(\"device_id\", StringType(), True),\n",
    "    StructField(\"measured\", TimestampType(), True),\n",
    "    StructField(\"arrived\", TimestampType(), True),\n",
    "    StructField(\"humidity\", IntegerType(), True),\n",
    "    StructField(\"temperature\", IntegerType(), True)\n",
    "])\n",
    "t_sensors_stream = spark.readStream.schema(schema).format(\"json\").option('path',T_SENSORS_SOURCE).load()\n",
    "t_sensors_stream"
   ]
  },
  {
   "cell_type": "code",
   "execution_count": 7,
   "id": "7c32fe44",
   "metadata": {
    "execution": {
     "iopub.execute_input": "2022-06-15T20:50:41.799913Z",
     "iopub.status.busy": "2022-06-15T20:50:41.799515Z",
     "iopub.status.idle": "2022-06-15T20:50:42.075664Z",
     "shell.execute_reply": "2022-06-15T20:50:42.075070Z",
     "shell.execute_reply.started": "2022-06-15T20:50:41.799874Z"
    },
    "tags": []
   },
   "outputs": [
    {
     "data": {
      "text/plain": [
       "DataFrame[device_id: string, measured: timestamp, arrived: timestamp, CO2_level: int]"
      ]
     },
     "execution_count": 7,
     "metadata": {},
     "output_type": "execute_result"
    }
   ],
   "source": [
    "schema = StructType([\n",
    "    StructField(\"device_id\", StringType(), True),\n",
    "    StructField(\"measured\", TimestampType(), True),\n",
    "    StructField(\"arrived\", TimestampType(), True),\n",
    "    StructField(\"CO2_level\", IntegerType(), True)\n",
    "])\n",
    "p_sensors_stream = spark.readStream.schema(schema).format(\"json\").option('path',P_SENSORS_SOURCE).load()\n",
    "p_sensors_stream"
   ]
  },
  {
   "cell_type": "code",
   "execution_count": 8,
   "id": "7894e22b",
   "metadata": {
    "execution": {
     "iopub.execute_input": "2022-06-15T20:50:42.076768Z",
     "iopub.status.busy": "2022-06-15T20:50:42.076587Z",
     "iopub.status.idle": "2022-06-15T20:50:42.138349Z",
     "shell.execute_reply": "2022-06-15T20:50:42.137544Z",
     "shell.execute_reply.started": "2022-06-15T20:50:42.076746Z"
    }
   },
   "outputs": [
    {
     "name": "stdout",
     "output_type": "stream",
     "text": [
      "True True True\n"
     ]
    }
   ],
   "source": [
    "print(monitor_stream.isStreaming, t_sensors_stream.isStreaming, p_sensors_stream.isStreaming)"
   ]
  },
  {
   "cell_type": "markdown",
   "id": "95004d8e",
   "metadata": {},
   "source": [
    "### Cleanse data"
   ]
  },
  {
   "cell_type": "code",
   "execution_count": 9,
   "id": "8c7fbd5f",
   "metadata": {
    "scrolled": false
   },
   "outputs": [],
   "source": [
    "import dateutil.parser\n",
    "\n",
    "# Remove duplicates\n",
    "t_query = t_sensors_stream.dropDuplicates([\"device_id\", \"measured\"])\n",
    "\n",
    "# Remove values arrived more than one day late\n",
    "#t_query = t_query.filter(\"datediff(arrived, measured) < 1\")"
   ]
  },
  {
   "cell_type": "markdown",
   "id": "be514682",
   "metadata": {},
   "source": [
    "### Aggregate data"
   ]
  },
  {
   "cell_type": "code",
   "execution_count": 10,
   "id": "043ae1bb",
   "metadata": {
    "scrolled": false
   },
   "outputs": [],
   "source": [
    "m_query = monitor_stream\n",
    "final = t_query.join(m_query, on=\"device_id\")"
   ]
  },
  {
   "cell_type": "code",
   "execution_count": 11,
   "id": "5ac8c5b9",
   "metadata": {},
   "outputs": [
    {
     "name": "stderr",
     "output_type": "stream",
     "text": [
      "22/06/28 03:02:44 WARN ResolveWriteToStream: Temporary checkpoint location created which is deleted normally when the query didn't fail: /tmp/temporary-c72dbd9e-16af-411b-bd61-26582f71011b. If it's required to delete it under any circumstances, please set spark.sql.streaming.forceDeleteTempCheckpointLocation to true. Important to know deleting temp checkpoint folder is best effort.\n",
      "22/06/28 03:02:45 WARN ResolveWriteToStream: spark.sql.adaptive.enabled is not supported in streaming DataFrames/Datasets and will be disabled.\n"
     ]
    },
    {
     "data": {
      "text/plain": [
       "'p_sensors_query = p_sensors_stream     .writeStream     .outputMode(\"append\")     .format(\"console\")     .start()'"
      ]
     },
     "execution_count": 11,
     "metadata": {},
     "output_type": "execute_result"
    },
    {
     "name": "stderr",
     "output_type": "stream",
     "text": [
      "{'device_id': 't-15023820', 'measured': '2022-06-28 02:54:46.063000', 'arrived': '2022-06-29 02:54:46.063000', 'humidity': 69, 'temperature': 23, 'device_health': 3, 'type': 'temperature', 'area': 'residential', 'customer': 'AB-Service'}\n",
      "                                                                                \r"
     ]
    }
   ],
   "source": [
    "'''m_stream = m_query \\\n",
    "    .writeStream \\\n",
    "    .outputMode(\"append\") \\\n",
    "    .format(\"console\") \\\n",
    "    .start()\n",
    "\n",
    "t_stream = t_query \\\n",
    "    .writeStream \\\n",
    "    .outputMode(\"append\") \\\n",
    "    .format(\"console\") \\\n",
    "    .start()\n",
    "'''\n",
    "\n",
    "def process(row):\n",
    "    row = row.asDict()\n",
    "    row['measured'] = str(row['measured'])\n",
    "    row['arrived'] = str(row['arrived'])\n",
    "    print(row)\n",
    "    \n",
    "\n",
    "final = final.writeStream.foreach(process).start()\n",
    "\n",
    "'''p_sensors_query = p_sensors_stream \\\n",
    "    .writeStream \\\n",
    "    .outputMode(\"append\") \\\n",
    "    .format(\"console\") \\\n",
    "    .start()'''"
   ]
  },
  {
   "cell_type": "markdown",
   "id": "432bfb4f",
   "metadata": {},
   "source": [
    "final.stop()\n",
    "m_stream.stop()\n",
    "t_stream.stop()\n",
    "# p_sensors_query.stop()"
   ]
  },
  {
   "cell_type": "code",
   "execution_count": null,
   "id": "3c35f8be-50c0-4429-94f9-861d6ce8765e",
   "metadata": {},
   "outputs": [],
   "source": []
  }
 ],
 "metadata": {
  "kernelspec": {
   "display_name": "Python 3 (ipykernel)",
   "language": "python",
   "name": "python3"
  },
  "language_info": {
   "codemirror_mode": {
    "name": "ipython",
    "version": 3
   },
   "file_extension": ".py",
   "mimetype": "text/x-python",
   "name": "python",
   "nbconvert_exporter": "python",
   "pygments_lexer": "ipython3",
   "version": "3.10.5"
  }
 },
 "nbformat": 4,
 "nbformat_minor": 5
}

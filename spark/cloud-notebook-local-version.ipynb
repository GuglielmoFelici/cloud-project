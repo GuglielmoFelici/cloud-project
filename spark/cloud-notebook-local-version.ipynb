{
 "cells": [
  {
   "cell_type": "markdown",
   "id": "c8c917fb-9c73-471e-9d25-6597c595ef2d",
   "metadata": {},
   "source": [
    "# Initialize spark"
   ]
  },
  {
   "cell_type": "code",
   "execution_count": null,
   "id": "9f35b394",
   "metadata": {},
   "outputs": [],
   "source": [
    "from pyspark.sql import SparkSession\n",
    "from pyspark.sql.functions import explode\n",
    "from pyspark.sql.functions import split\n",
    "from pyspark.streaming import StreamingContext\n",
    "\n",
    "spark = SparkSession \\\n",
    "    .builder \\\n",
    "    .appName(\"CloudProject\") \\\n",
    "    .getOrCreate()\n"
   ]
  },
  {
   "cell_type": "code",
   "execution_count": null,
   "id": "376c77e3-982f-4a42-a19f-8e6f09f49b43",
   "metadata": {
    "execution": {
     "iopub.execute_input": "2022-06-15T20:50:07.107631Z",
     "iopub.status.busy": "2022-06-15T20:50:07.107389Z",
     "iopub.status.idle": "2022-06-15T20:50:36.036440Z",
     "shell.execute_reply": "2022-06-15T20:50:36.035731Z",
     "shell.execute_reply.started": "2022-06-15T20:50:07.107606Z"
    },
    "tags": []
   },
   "outputs": [],
   "source": [
    "from pyspark.sql.types import *\n",
    "scc = StreamingContext(spark,4)"
   ]
  },
  {
   "cell_type": "markdown",
   "id": "3a28e6cb-6cfc-4246-8559-1999eecbeb1a",
   "metadata": {},
   "source": [
    "# Initialize data streaming"
   ]
  },
  {
   "cell_type": "code",
   "execution_count": null,
   "id": "cfe9acaf",
   "metadata": {},
   "outputs": [],
   "source": [
    "MONITOR_SOURCE='/home/guglielmo/universita/cloud_computing/progetto/code/mock-data/monitor'\n",
    "P_SENSORS_SOURCE='/home/guglielmo/universita/cloud_computing/progetto/code/mock-data/measurements/pollution'\n",
    "T_SENSORS_SOURCE='/home/guglielmo/universita/cloud_computing/progetto/code/mock-data/measurements/temperature'"
   ]
  },
  {
   "cell_type": "markdown",
   "id": "6021d145-76a6-4b29-a038-3548fbb45460",
   "metadata": {},
   "source": [
    "### Initialize monitor data streaming"
   ]
  },
  {
   "cell_type": "code",
   "execution_count": null,
   "id": "276f5169",
   "metadata": {
    "execution": {
     "iopub.execute_input": "2022-06-15T20:50:36.038025Z",
     "iopub.status.busy": "2022-06-15T20:50:36.037736Z",
     "iopub.status.idle": "2022-06-15T20:50:41.452522Z",
     "shell.execute_reply": "2022-06-15T20:50:41.451705Z",
     "shell.execute_reply.started": "2022-06-15T20:50:36.037994Z"
    },
    "tags": []
   },
   "outputs": [],
   "source": [
    "schema = StructType([\n",
    "    StructField(\"device_id\", StringType(), True),\n",
    "    StructField(\"device_health\", IntegerType(), True),\n",
    "    StructField(\"type\", StringType(), True),\n",
    "    StructField(\"area\", StringType(), True),\n",
    "    StructField(\"customer\", StringType(), True),\n",
    "])\n",
    "monitor_stream = spark.readStream.schema(schema).format(\"json\").option('path',MONITOR_SOURCE).load()\n",
    "monitor_stream"
   ]
  },
  {
   "cell_type": "code",
   "execution_count": null,
   "id": "f04e2cb3-80ff-4d5f-b457-910c02ad18fd",
   "metadata": {
    "execution": {
     "iopub.execute_input": "2022-06-15T20:50:41.453896Z",
     "iopub.status.busy": "2022-06-15T20:50:41.453724Z",
     "iopub.status.idle": "2022-06-15T20:50:41.522869Z",
     "shell.execute_reply": "2022-06-15T20:50:41.522175Z",
     "shell.execute_reply.started": "2022-06-15T20:50:41.453874Z"
    },
    "tags": []
   },
   "outputs": [],
   "source": [
    "monitor_stream.isStreaming"
   ]
  },
  {
   "cell_type": "markdown",
   "id": "d0b20f86-31e2-463d-9801-72363b3cd88d",
   "metadata": {},
   "source": [
    "### Initialize sensors data streaming"
   ]
  },
  {
   "cell_type": "code",
   "execution_count": null,
   "id": "0ddec861",
   "metadata": {
    "execution": {
     "iopub.execute_input": "2022-06-15T20:50:41.524133Z",
     "iopub.status.busy": "2022-06-15T20:50:41.523945Z",
     "iopub.status.idle": "2022-06-15T20:50:41.798463Z",
     "shell.execute_reply": "2022-06-15T20:50:41.797766Z",
     "shell.execute_reply.started": "2022-06-15T20:50:41.524108Z"
    },
    "tags": []
   },
   "outputs": [],
   "source": [
    "schema = StructType([\n",
    "    StructField(\"device_id\", StringType(), True),\n",
    "    StructField(\"timestamp\", TimestampType(), True),\n",
    "    StructField(\"humidity\", IntegerType(), True),\n",
    "    StructField(\"temperature\", IntegerType(), True)\n",
    "])\n",
    "t_sensors_stream = spark.readStream.schema(schema).format(\"json\").option('path',T_SENSORS_SOURCE).load()\n",
    "t_sensors_stream"
   ]
  },
  {
   "cell_type": "code",
   "execution_count": null,
   "id": "7c32fe44",
   "metadata": {
    "execution": {
     "iopub.execute_input": "2022-06-15T20:50:41.799913Z",
     "iopub.status.busy": "2022-06-15T20:50:41.799515Z",
     "iopub.status.idle": "2022-06-15T20:50:42.075664Z",
     "shell.execute_reply": "2022-06-15T20:50:42.075070Z",
     "shell.execute_reply.started": "2022-06-15T20:50:41.799874Z"
    },
    "tags": []
   },
   "outputs": [],
   "source": [
    "schema = StructType([\n",
    "    StructField(\"device_id\", StringType(), True),\n",
    "    StructField(\"timestamp\", TimestampType(), True),\n",
    "    StructField(\"CO2_level\", IntegerType(), True)\n",
    "])\n",
    "p_sensors_stream = spark.readStream.schema(schema).format(\"json\").option('path',P_SENSORS_SOURCE).load()\n",
    "p_sensors_stream"
   ]
  },
  {
   "cell_type": "code",
   "execution_count": null,
   "id": "7894e22b",
   "metadata": {
    "execution": {
     "iopub.execute_input": "2022-06-15T20:50:42.076768Z",
     "iopub.status.busy": "2022-06-15T20:50:42.076587Z",
     "iopub.status.idle": "2022-06-15T20:50:42.138349Z",
     "shell.execute_reply": "2022-06-15T20:50:42.137544Z",
     "shell.execute_reply.started": "2022-06-15T20:50:42.076746Z"
    }
   },
   "outputs": [],
   "source": [
    "print(monitor_stream.isStreaming, t_sensors_stream.isStreaming, p_sensors_stream.isStreaming)"
   ]
  },
  {
   "cell_type": "code",
   "execution_count": null,
   "id": "5ac8c5b9",
   "metadata": {},
   "outputs": [],
   "source": [
    "monitor_query = monitor_stream \\\n",
    "    .writeStream \\\n",
    "    .outputMode(\"append\") \\\n",
    "    .format(\"console\") \\\n",
    "    .start()\n",
    "\n",
    "t_sensors_query = t_sensors_stream \\\n",
    "    .writeStream \\\n",
    "    .outputMode(\"append\") \\\n",
    "    .format(\"console\") \\\n",
    "    .start()\n",
    "\n",
    "p_sensors_query = p_sensors_stream \\\n",
    "    .writeStream \\\n",
    "    .outputMode(\"append\") \\\n",
    "    .format(\"console\") \\\n",
    "    .start()"
   ]
  },
  {
   "cell_type": "code",
   "execution_count": null,
   "id": "ee587a3b",
   "metadata": {},
   "outputs": [],
   "source": [
    "monitor_query.stop()\n",
    "t_sensors_query.stop()\n",
    "p_sensors_query.stop()"
   ]
  },
  {
   "cell_type": "code",
   "execution_count": null,
   "id": "3c35f8be-50c0-4429-94f9-861d6ce8765e",
   "metadata": {},
   "outputs": [],
   "source": []
  }
 ],
 "metadata": {
  "kernelspec": {
   "display_name": "Python 3 (ipykernel)",
   "language": "python",
   "name": "python3"
  },
  "language_info": {
   "codemirror_mode": {
    "name": "ipython",
    "version": 3
   },
   "file_extension": ".py",
   "mimetype": "text/x-python",
   "name": "python",
   "nbconvert_exporter": "python",
   "pygments_lexer": "ipython3",
   "version": "3.10.5"
  }
 },
 "nbformat": 4,
 "nbformat_minor": 5
}

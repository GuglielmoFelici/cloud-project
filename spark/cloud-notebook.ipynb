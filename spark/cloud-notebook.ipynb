{
 "cells": [
  {
   "cell_type": "markdown",
   "id": "c8c917fb-9c73-471e-9d25-6597c595ef2d",
   "metadata": {},
   "source": [
    "# Initialize spark"
   ]
  },
  {
   "cell_type": "code",
   "execution_count": 1,
   "id": "376c77e3-982f-4a42-a19f-8e6f09f49b43",
   "metadata": {
    "execution": {
     "iopub.execute_input": "2022-06-17T18:20:01.662645Z",
     "iopub.status.busy": "2022-06-17T18:20:01.662418Z",
     "iopub.status.idle": "2022-06-17T18:20:28.632746Z",
     "shell.execute_reply": "2022-06-17T18:20:28.632145Z",
     "shell.execute_reply.started": "2022-06-17T18:20:01.662616Z"
    },
    "tags": []
   },
   "outputs": [
    {
     "data": {
      "application/vnd.jupyter.widget-view+json": {
       "model_id": "24be9f37cb674e34bcdea95697de500d",
       "version_major": 2,
       "version_minor": 0
      },
      "text/plain": [
       "VBox()"
      ]
     },
     "metadata": {},
     "output_type": "display_data"
    },
    {
     "name": "stdout",
     "output_type": "stream",
     "text": [
      "Starting Spark application\n"
     ]
    },
    {
     "data": {
      "text/html": [
       "<table>\n",
       "<tr><th>ID</th><th>YARN Application ID</th><th>Kind</th><th>State</th><th>Spark UI</th><th>Driver log</th><th>User</th><th>Current session?</th></tr><tr><td>3</td><td>application_1655488930143_0004</td><td>pyspark</td><td>idle</td><td><a target=\"_blank\" href=\"http://ip-172-31-1-56.ec2.internal:20888/proxy/application_1655488930143_0004/\" class=\"emr-proxy-link\" emr-resource=\"j-11UXNDWF4K22R\n",
       "\" application-id=\"application_1655488930143_0004\">Link</a></td><td><a target=\"_blank\" href=\"http://ip-172-31-1-56.ec2.internal:8042/node/containerlogs/container_1655488930143_0004_01_000001/livy\" >Link</a></td><td>None</td><td>✔</td></tr></table>"
      ],
      "text/plain": [
       "<IPython.core.display.HTML object>"
      ]
     },
     "metadata": {},
     "output_type": "display_data"
    },
    {
     "data": {
      "application/vnd.jupyter.widget-view+json": {
       "model_id": "",
       "version_major": 2,
       "version_minor": 0
      },
      "text/plain": [
       "FloatProgress(value=0.0, bar_style='info', description='Progress:', layout=Layout(height='25px', width='50%'),…"
      ]
     },
     "metadata": {},
     "output_type": "display_data"
    },
    {
     "name": "stdout",
     "output_type": "stream",
     "text": [
      "SparkSession available as 'spark'.\n"
     ]
    },
    {
     "data": {
      "application/vnd.jupyter.widget-view+json": {
       "model_id": "",
       "version_major": 2,
       "version_minor": 0
      },
      "text/plain": [
       "FloatProgress(value=0.0, bar_style='info', description='Progress:', layout=Layout(height='25px', width='50%'),…"
      ]
     },
     "metadata": {},
     "output_type": "display_data"
    }
   ],
   "source": [
    "from pyspark.sql.types import *\n",
    "scc = StreamingContext(spark,4)"
   ]
  },
  {
   "cell_type": "markdown",
   "id": "3a28e6cb-6cfc-4246-8559-1999eecbeb1a",
   "metadata": {},
   "source": [
    "# Initialize data streaming"
   ]
  },
  {
   "cell_type": "code",
   "execution_count": 2,
   "id": "f5fda41b-ba36-4f07-9b00-9281a5cb3ca8",
   "metadata": {
    "execution": {
     "iopub.execute_input": "2022-06-17T18:20:28.634005Z",
     "iopub.status.busy": "2022-06-17T18:20:28.633817Z",
     "iopub.status.idle": "2022-06-17T18:20:28.702328Z",
     "shell.execute_reply": "2022-06-17T18:20:28.701778Z",
     "shell.execute_reply.started": "2022-06-17T18:20:28.633984Z"
    },
    "tags": []
   },
   "outputs": [
    {
     "data": {
      "application/vnd.jupyter.widget-view+json": {
       "model_id": "caa666bbb0a04796b5a7e90646995c7b",
       "version_major": 2,
       "version_minor": 0
      },
      "text/plain": [
       "VBox()"
      ]
     },
     "metadata": {},
     "output_type": "display_data"
    },
    {
     "data": {
      "application/vnd.jupyter.widget-view+json": {
       "model_id": "",
       "version_major": 2,
       "version_minor": 0
      },
      "text/plain": [
       "FloatProgress(value=0.0, bar_style='info', description='Progress:', layout=Layout(height='25px', width='50%'),…"
      ]
     },
     "metadata": {},
     "output_type": "display_data"
    }
   ],
   "source": [
    "MONITOR_SOURCE='s3://guglielmo-data-lake/monitor'\n",
    "P_SENSORS_SOURCE='s3://guglielmo-data-lake/measurements/pollution'\n",
    "T_SENSORS_SOURCE='s3://guglielmo-data-lake/measurements/temperature'"
   ]
  },
  {
   "cell_type": "markdown",
   "id": "6021d145-76a6-4b29-a038-3548fbb45460",
   "metadata": {},
   "source": [
    "### Initialize monitor data streaming"
   ]
  },
  {
   "cell_type": "code",
   "execution_count": 3,
   "id": "3c049030-c9b6-4906-b1e5-fa0d9c7e2927",
   "metadata": {
    "execution": {
     "iopub.execute_input": "2022-06-17T18:20:28.703729Z",
     "iopub.status.busy": "2022-06-17T18:20:28.703505Z",
     "iopub.status.idle": "2022-06-17T18:20:34.022549Z",
     "shell.execute_reply": "2022-06-17T18:20:34.021963Z",
     "shell.execute_reply.started": "2022-06-17T18:20:28.703693Z"
    },
    "tags": []
   },
   "outputs": [
    {
     "data": {
      "application/vnd.jupyter.widget-view+json": {
       "model_id": "9ef9dae33c284bfc9907f2fad7ec099c",
       "version_major": 2,
       "version_minor": 0
      },
      "text/plain": [
       "VBox()"
      ]
     },
     "metadata": {},
     "output_type": "display_data"
    },
    {
     "data": {
      "application/vnd.jupyter.widget-view+json": {
       "model_id": "",
       "version_major": 2,
       "version_minor": 0
      },
      "text/plain": [
       "FloatProgress(value=0.0, bar_style='info', description='Progress:', layout=Layout(height='25px', width='50%'),…"
      ]
     },
     "metadata": {},
     "output_type": "display_data"
    },
    {
     "name": "stdout",
     "output_type": "stream",
     "text": [
      "DataFrame[device_id: string, device_health: int, type: string, area: string, customer: string]"
     ]
    }
   ],
   "source": [
    "schema = StructType([\n",
    "    StructField(\"device_id\", StringType(), True),\n",
    "    StructField(\"device_health\", IntegerType(), True),\n",
    "    StructField(\"type\", StringType(), True),\n",
    "    StructField(\"area\", StringType(), True),\n",
    "    StructField(\"customer\", StringType(), True),\n",
    "])\n",
    "monitor_stream = spark.readStream.schema(schema).format(\"json\").option('path',MONITOR_SOURCE).load()\n",
    "monitor_stream"
   ]
  },
  {
   "cell_type": "markdown",
   "id": "d0b20f86-31e2-463d-9801-72363b3cd88d",
   "metadata": {},
   "source": [
    "### Initialize sensors data streaming"
   ]
  },
  {
   "cell_type": "code",
   "execution_count": 4,
   "id": "e5c50d30-7d7d-4bec-8dba-6e6daa117799",
   "metadata": {
    "execution": {
     "iopub.execute_input": "2022-06-17T18:20:34.023907Z",
     "iopub.status.busy": "2022-06-17T18:20:34.023726Z",
     "iopub.status.idle": "2022-06-17T18:20:34.295490Z",
     "shell.execute_reply": "2022-06-17T18:20:34.294808Z",
     "shell.execute_reply.started": "2022-06-17T18:20:34.023885Z"
    },
    "tags": []
   },
   "outputs": [
    {
     "data": {
      "application/vnd.jupyter.widget-view+json": {
       "model_id": "82cd6e926d5e4c05b961c28428c568e9",
       "version_major": 2,
       "version_minor": 0
      },
      "text/plain": [
       "VBox()"
      ]
     },
     "metadata": {},
     "output_type": "display_data"
    },
    {
     "data": {
      "application/vnd.jupyter.widget-view+json": {
       "model_id": "",
       "version_major": 2,
       "version_minor": 0
      },
      "text/plain": [
       "FloatProgress(value=0.0, bar_style='info', description='Progress:', layout=Layout(height='25px', width='50%'),…"
      ]
     },
     "metadata": {},
     "output_type": "display_data"
    },
    {
     "name": "stdout",
     "output_type": "stream",
     "text": [
      "DataFrame[device_id: string, timestamp: timestamp, humidity: int, temperature: int]"
     ]
    }
   ],
   "source": [
    "schema = StructType([\n",
    "    StructField(\"device_id\", StringType(), True),\n",
    "    StructField(\"measured\", TimestampType(), True),\n",
    "    StructField(\"arrived\", TimestampType(), True),\n",
    "    StructField(\"humidity\", IntegerType(), True),\n",
    "    StructField(\"temperature\", IntegerType(), True)\n",
    "])\n",
    "t_sensors_stream = spark.readStream.schema(schema).format(\"json\").option('path',T_SENSORS_SOURCE).load()\n",
    "t_sensors_stream"
   ]
  },
  {
   "cell_type": "code",
   "execution_count": 5,
   "id": "53b25d06-fd34-4f2b-9ac3-6b96c514d762",
   "metadata": {
    "execution": {
     "iopub.execute_input": "2022-06-17T18:20:34.297025Z",
     "iopub.status.busy": "2022-06-17T18:20:34.296765Z",
     "iopub.status.idle": "2022-06-17T18:20:34.577917Z",
     "shell.execute_reply": "2022-06-17T18:20:34.577202Z",
     "shell.execute_reply.started": "2022-06-17T18:20:34.296987Z"
    },
    "tags": []
   },
   "outputs": [
    {
     "data": {
      "application/vnd.jupyter.widget-view+json": {
       "model_id": "14ca584f6c87433ca494dc7a691095ee",
       "version_major": 2,
       "version_minor": 0
      },
      "text/plain": [
       "VBox()"
      ]
     },
     "metadata": {},
     "output_type": "display_data"
    },
    {
     "data": {
      "application/vnd.jupyter.widget-view+json": {
       "model_id": "",
       "version_major": 2,
       "version_minor": 0
      },
      "text/plain": [
       "FloatProgress(value=0.0, bar_style='info', description='Progress:', layout=Layout(height='25px', width='50%'),…"
      ]
     },
     "metadata": {},
     "output_type": "display_data"
    },
    {
     "name": "stdout",
     "output_type": "stream",
     "text": [
      "DataFrame[device_id: string, timestamp: timestamp, CO2_level: int]"
     ]
    }
   ],
   "source": [
    "schema = StructType([\n",
    "    StructField(\"device_id\", StringType(), True),\n",
    "    StructField(\"measured\", TimestampType(), True),\n",
    "    StructField(\"arrived\", TimestampType(), True),\n",
    "    StructField(\"CO2_level\", IntegerType(), True)\n",
    "])\n",
    "p_sensors_stream = spark.readStream.schema(schema).format(\"json\").option('path',P_SENSORS_SOURCE).load()\n",
    "p_sensors_stream"
   ]
  },
  {
   "cell_type": "code",
   "execution_count": 6,
   "id": "19ec2d72-9c10-4422-95ca-9c50a506e3cf",
   "metadata": {
    "execution": {
     "iopub.execute_input": "2022-06-17T18:20:34.579365Z",
     "iopub.status.busy": "2022-06-17T18:20:34.579113Z",
     "iopub.status.idle": "2022-06-17T18:20:34.645379Z",
     "shell.execute_reply": "2022-06-17T18:20:34.644808Z",
     "shell.execute_reply.started": "2022-06-17T18:20:34.579330Z"
    },
    "tags": []
   },
   "outputs": [
    {
     "data": {
      "application/vnd.jupyter.widget-view+json": {
       "model_id": "d338484b7f214cef8d913a24a255a9b7",
       "version_major": 2,
       "version_minor": 0
      },
      "text/plain": [
       "VBox()"
      ]
     },
     "metadata": {},
     "output_type": "display_data"
    },
    {
     "data": {
      "application/vnd.jupyter.widget-view+json": {
       "model_id": "",
       "version_major": 2,
       "version_minor": 0
      },
      "text/plain": [
       "FloatProgress(value=0.0, bar_style='info', description='Progress:', layout=Layout(height='25px', width='50%'),…"
      ]
     },
     "metadata": {},
     "output_type": "display_data"
    },
    {
     "name": "stdout",
     "output_type": "stream",
     "text": [
      "True True True"
     ]
    }
   ],
   "source": [
    "print(monitor_stream.isStreaming, t_sensors_stream.isStreaming, p_sensors_stream.isStreaming)"
   ]
  },
  {
   "cell_type": "markdown",
   "id": "cfb8e4a2",
   "metadata": {},
   "source": [
    "### Cleanse and aggregate data"
   ]
  },
  {
   "cell_type": "code",
   "execution_count": null,
   "id": "19e282c4",
   "metadata": {},
   "outputs": [],
   "source": [
    "import dateutil.parser\n",
    "\n",
    "queries = []\n",
    "\n",
    "for stream in [t_sensors_stream, p_sensors_stream]:\n",
    "    \n",
    "    # Remove duplicates\n",
    "    query = stream.dropDuplicates([\"device_id\", \"measured\"])\n",
    "\n",
    "    # Remove values arrived more than one day late\n",
    "    query = query.filter(\"datediff(arrived, measured) < 1\")\n",
    "    \n",
    "    # Join with monitor data\n",
    "    query = query.join(monitor_stream, on=\"device_id\")\n",
    "    \n",
    "    queries += [query]"
   ]
  },
  {
   "cell_type": "code",
   "execution_count": null,
   "id": "0a06bb3e",
   "metadata": {},
   "outputs": [],
   "source": [
    "'''\n",
    "monitor_query = monitor_stream \\\n",
    "    .writeStream \\\n",
    "  .format(\"json\")\\\n",
    "  .option(\"path\", \"s3://test-output-emr/monitor/\")\\\n",
    "  .option(\"checkpointLocation\", \"s3://test-spark-checkpoints/monitor\")\\\n",
    "  .start()'''"
   ]
  },
  {
   "cell_type": "code",
   "execution_count": 7,
   "id": "dd62a28a-2958-4b3b-983b-0d21803dbec8",
   "metadata": {
    "execution": {
     "iopub.execute_input": "2022-06-17T18:20:34.646467Z",
     "iopub.status.busy": "2022-06-17T18:20:34.646285Z",
     "iopub.status.idle": "2022-06-17T18:20:39.974127Z",
     "shell.execute_reply": "2022-06-17T18:20:39.973216Z",
     "shell.execute_reply.started": "2022-06-17T18:20:34.646444Z"
    },
    "tags": []
   },
   "outputs": [
    {
     "data": {
      "application/vnd.jupyter.widget-view+json": {
       "model_id": "fc868be139ac4985a2115aad8830ed77",
       "version_major": 2,
       "version_minor": 0
      },
      "text/plain": [
       "VBox()"
      ]
     },
     "metadata": {},
     "output_type": "display_data"
    },
    {
     "data": {
      "application/vnd.jupyter.widget-view+json": {
       "model_id": "",
       "version_major": 2,
       "version_minor": 0
      },
      "text/plain": [
       "FloatProgress(value=0.0, bar_style='info', description='Progress:', layout=Layout(height='25px', width='50%'),…"
      ]
     },
     "metadata": {},
     "output_type": "display_data"
    }
   ],
   "source": [
    "import boto3\n",
    "\n",
    "dynamodb = boto3.resource('dynamodb', region_name='us-east-1')\n",
    "table = dynamodb.Table('measurements')\n",
    "\n",
    "def process(row):\n",
    "    row = row.asDict()\n",
    "    row['measured'] = str(row['measured'])\n",
    "    row['arrived'] = str(row['arrived'])\n",
    "    row['dynamo_id'] = row['id'] + row['measured']\n",
    "    table.put_item(\n",
    "        Item=row\n",
    "    )\n",
    "    \n",
    "\n",
    "for query in queries:\n",
    "    query.writeStream.foreach(process).start()"
   ]
  },
  {
   "cell_type": "markdown",
   "id": "3c41c201-8e33-4ccb-854f-97e1d9056dd8",
   "metadata": {
    "tags": []
   },
   "source": [
    "for query in queries:\n",
    "    query.stop()"
   ]
  },
  {
   "cell_type": "code",
   "execution_count": null,
   "id": "3c35f8be-50c0-4429-94f9-861d6ce8765e",
   "metadata": {},
   "outputs": [],
   "source": []
  }
 ],
 "metadata": {
  "kernelspec": {
   "display_name": "Python 3 (ipykernel)",
   "language": "python",
   "name": "python3"
  },
  "language_info": {
   "codemirror_mode": {
    "name": "ipython",
    "version": 3
   },
   "file_extension": ".py",
   "mimetype": "text/x-python",
   "name": "python",
   "nbconvert_exporter": "python",
   "pygments_lexer": "ipython3",
   "version": "3.10.5"
  }
 },
 "nbformat": 4,
 "nbformat_minor": 5
}

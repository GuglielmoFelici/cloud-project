{
 "cells": [
  {
   "cell_type": "code",
   "execution_count": 3,
   "metadata": {
    "execution": {
     "iopub.execute_input": "2022-06-08T17:20:36.464174Z",
     "iopub.status.busy": "2022-06-08T17:20:36.463923Z",
     "iopub.status.idle": "2022-06-08T17:20:56.594741Z",
     "shell.execute_reply": "2022-06-08T17:20:56.593778Z",
     "shell.execute_reply.started": "2022-06-08T17:20:36.464148Z"
    },
    "tags": []
   },
   "outputs": [
    {
     "name": "stdout",
     "output_type": "stream",
     "text": [
      "0\n"
     ]
    }
   ],
   "source": [
    "import boto3\n",
    "dynamodb = boto3.resource('dynamodb', region_name = 'us-east-1')\n",
    "\n",
    "# Create the DynamoDB table.\n",
    "table = dynamodb.create_table(\n",
    "    TableName='users',\n",
    "    KeySchema=[\n",
    "        {\n",
    "            'AttributeName': 'username',\n",
    "            'KeyType': 'HASH'\n",
    "        },\n",
    "        {\n",
    "            'AttributeName': 'last_name',\n",
    "            'KeyType': 'RANGE'\n",
    "        }\n",
    "    ],\n",
    "    AttributeDefinitions=[\n",
    "        {\n",
    "            'AttributeName': 'username',\n",
    "            'AttributeType': 'S'\n",
    "        },\n",
    "        {\n",
    "            'AttributeName': 'last_name',\n",
    "            'AttributeType': 'S'\n",
    "        },\n",
    "    ],\n",
    "    ProvisionedThroughput={\n",
    "        'ReadCapacityUnits': 5,\n",
    "        'WriteCapacityUnits': 5\n",
    "    }\n",
    ")\n",
    "\n",
    "# Wait until the table exists.\n",
    "table.wait_until_exists()\n",
    "\n",
    "# Print out some data about the table.\n",
    "print(table.item_count)"
   ]
  },
  {
   "cell_type": "code",
   "execution_count": 5,
   "metadata": {
    "execution": {
     "iopub.execute_input": "2022-06-08T17:21:59.757418Z",
     "iopub.status.busy": "2022-06-08T17:21:59.757171Z",
     "iopub.status.idle": "2022-06-08T17:21:59.772051Z",
     "shell.execute_reply": "2022-06-08T17:21:59.771474Z",
     "shell.execute_reply.started": "2022-06-08T17:21:59.757393Z"
    },
    "tags": []
   },
   "outputs": [
    {
     "name": "stdout",
     "output_type": "stream",
     "text": [
      "2022-06-08 17:20:36.509000+00:00\n"
     ]
    }
   ],
   "source": [
    "# Get the table just created\n",
    "\n",
    "table = dynamodb.Table('users')\n",
    "\n",
    "print(table.creation_date_time)"
   ]
  },
  {
   "cell_type": "code",
   "execution_count": 6,
   "metadata": {
    "execution": {
     "iopub.execute_input": "2022-06-08T17:22:30.433312Z",
     "iopub.status.busy": "2022-06-08T17:22:30.433083Z",
     "iopub.status.idle": "2022-06-08T17:22:30.456870Z",
     "shell.execute_reply": "2022-06-08T17:22:30.456057Z",
     "shell.execute_reply.started": "2022-06-08T17:22:30.433288Z"
    }
   },
   "outputs": [
    {
     "data": {
      "text/plain": [
       "{'ResponseMetadata': {'RequestId': 'BJCMIRRASD190HPQ0V5P12HDEFVV4KQNSO5AEMVJF66Q9ASUAAJG',\n",
       "  'HTTPStatusCode': 200,\n",
       "  'HTTPHeaders': {'server': 'Server',\n",
       "   'date': 'Wed, 08 Jun 2022 17:22:30 GMT',\n",
       "   'content-type': 'application/x-amz-json-1.0',\n",
       "   'content-length': '2',\n",
       "   'connection': 'keep-alive',\n",
       "   'x-amzn-requestid': 'BJCMIRRASD190HPQ0V5P12HDEFVV4KQNSO5AEMVJF66Q9ASUAAJG',\n",
       "   'x-amz-crc32': '2745614147'},\n",
       "  'RetryAttempts': 0}}"
      ]
     },
     "execution_count": 6,
     "metadata": {},
     "output_type": "execute_result"
    }
   ],
   "source": [
    "#Creating a new item\n",
    "\n",
    "table.put_item(\n",
    "   Item={\n",
    "        'username': 'janedoe',\n",
    "        'first_name': 'Jane',\n",
    "        'last_name': 'Doe',\n",
    "        'age': 25,\n",
    "        'account_type': 'standard_user',\n",
    "    }\n",
    ")"
   ]
  },
  {
   "cell_type": "code",
   "execution_count": 7,
   "metadata": {
    "execution": {
     "iopub.execute_input": "2022-06-08T17:22:52.061489Z",
     "iopub.status.busy": "2022-06-08T17:22:52.061164Z",
     "iopub.status.idle": "2022-06-08T17:22:52.077730Z",
     "shell.execute_reply": "2022-06-08T17:22:52.076906Z",
     "shell.execute_reply.started": "2022-06-08T17:22:52.061442Z"
    }
   },
   "outputs": [
    {
     "name": "stdout",
     "output_type": "stream",
     "text": [
      "{'username': 'janedoe', 'account_type': 'standard_user', 'last_name': 'Doe', 'first_name': 'Jane', 'age': Decimal('25')}\n"
     ]
    }
   ],
   "source": [
    "#Getting an item\n",
    "\n",
    "response = table.get_item(\n",
    "    Key={\n",
    "        'username': 'janedoe',\n",
    "        'last_name': 'Doe'\n",
    "    }\n",
    ")\n",
    "item = response['Item']\n",
    "print(item)"
   ]
  },
  {
   "cell_type": "code",
   "execution_count": 8,
   "metadata": {
    "execution": {
     "iopub.execute_input": "2022-06-08T17:23:17.370267Z",
     "iopub.status.busy": "2022-06-08T17:23:17.370043Z",
     "iopub.status.idle": "2022-06-08T17:23:17.383228Z",
     "shell.execute_reply": "2022-06-08T17:23:17.382491Z",
     "shell.execute_reply.started": "2022-06-08T17:23:17.370244Z"
    }
   },
   "outputs": [
    {
     "data": {
      "text/plain": [
       "{'ResponseMetadata': {'RequestId': '73HURIV06U0BJ1B0VOSI46345FVV4KQNSO5AEMVJF66Q9ASUAAJG',\n",
       "  'HTTPStatusCode': 200,\n",
       "  'HTTPHeaders': {'server': 'Server',\n",
       "   'date': 'Wed, 08 Jun 2022 17:23:17 GMT',\n",
       "   'content-type': 'application/x-amz-json-1.0',\n",
       "   'content-length': '2',\n",
       "   'connection': 'keep-alive',\n",
       "   'x-amzn-requestid': '73HURIV06U0BJ1B0VOSI46345FVV4KQNSO5AEMVJF66Q9ASUAAJG',\n",
       "   'x-amz-crc32': '2745614147'},\n",
       "  'RetryAttempts': 0}}"
      ]
     },
     "execution_count": 8,
     "metadata": {},
     "output_type": "execute_result"
    }
   ],
   "source": [
    "#Update item\n",
    "\n",
    "table.update_item(\n",
    "    Key={\n",
    "        'username': 'janedoe',\n",
    "        'last_name': 'Doe'\n",
    "    },\n",
    "    UpdateExpression='SET age = :val1',\n",
    "    ExpressionAttributeValues={\n",
    "        ':val1': 26\n",
    "    }\n",
    ")"
   ]
  },
  {
   "cell_type": "code",
   "execution_count": 10,
   "metadata": {
    "execution": {
     "iopub.execute_input": "2022-06-08T17:24:01.116405Z",
     "iopub.status.busy": "2022-06-08T17:24:01.116070Z",
     "iopub.status.idle": "2022-06-08T17:24:01.127608Z",
     "shell.execute_reply": "2022-06-08T17:24:01.126896Z",
     "shell.execute_reply.started": "2022-06-08T17:24:01.116364Z"
    },
    "tags": []
   },
   "outputs": [
    {
     "name": "stdout",
     "output_type": "stream",
     "text": [
      "{'username': 'janedoe', 'account_type': 'standard_user', 'last_name': 'Doe', 'age': Decimal('26'), 'first_name': 'Jane'}\n"
     ]
    }
   ],
   "source": [
    "#Getting the updated item\n",
    "\n",
    "response = table.get_item(\n",
    "    Key={\n",
    "        'username': 'janedoe',\n",
    "        'last_name': 'Doe'\n",
    "    }\n",
    ")\n",
    "item = response['Item']\n",
    "print(item)"
   ]
  },
  {
   "cell_type": "code",
   "execution_count": 11,
   "metadata": {
    "execution": {
     "iopub.execute_input": "2022-06-08T17:24:21.059514Z",
     "iopub.status.busy": "2022-06-08T17:24:21.059299Z",
     "iopub.status.idle": "2022-06-08T17:24:21.075606Z",
     "shell.execute_reply": "2022-06-08T17:24:21.074943Z",
     "shell.execute_reply.started": "2022-06-08T17:24:21.059492Z"
    }
   },
   "outputs": [
    {
     "data": {
      "text/plain": [
       "{'ResponseMetadata': {'RequestId': 'GD84HIAEA5DINGMVRDIKI5NVJBVV4KQNSO5AEMVJF66Q9ASUAAJG',\n",
       "  'HTTPStatusCode': 200,\n",
       "  'HTTPHeaders': {'server': 'Server',\n",
       "   'date': 'Wed, 08 Jun 2022 17:24:21 GMT',\n",
       "   'content-type': 'application/x-amz-json-1.0',\n",
       "   'content-length': '2',\n",
       "   'connection': 'keep-alive',\n",
       "   'x-amzn-requestid': 'GD84HIAEA5DINGMVRDIKI5NVJBVV4KQNSO5AEMVJF66Q9ASUAAJG',\n",
       "   'x-amz-crc32': '2745614147'},\n",
       "  'RetryAttempts': 0}}"
      ]
     },
     "execution_count": 11,
     "metadata": {},
     "output_type": "execute_result"
    }
   ],
   "source": [
    "#Deleting an item\n",
    "\n",
    "table.delete_item(\n",
    "    Key={\n",
    "        'username': 'janedoe',\n",
    "        'last_name': 'Doe'\n",
    "    }\n",
    ")"
   ]
  },
  {
   "cell_type": "code",
   "execution_count": 12,
   "metadata": {
    "execution": {
     "iopub.execute_input": "2022-06-08T17:25:36.098552Z",
     "iopub.status.busy": "2022-06-08T17:25:36.098323Z",
     "iopub.status.idle": "2022-06-08T17:25:36.168226Z",
     "shell.execute_reply": "2022-06-08T17:25:36.167680Z",
     "shell.execute_reply.started": "2022-06-08T17:25:36.098529Z"
    }
   },
   "outputs": [],
   "source": [
    "#Batch Writing -> useful when we are writing lots of data\n",
    "\n",
    "with table.batch_writer() as batch:\n",
    "    batch.put_item(\n",
    "        Item={\n",
    "            'account_type': 'standard_user',\n",
    "            'username': 'johndoe',\n",
    "            'first_name': 'John',\n",
    "            'last_name': 'Doe',\n",
    "            'age': 25,\n",
    "            'address': {\n",
    "                'road': '1 Jefferson Street',\n",
    "                'city': 'Los Angeles',\n",
    "                'state': 'CA',\n",
    "                'zipcode': 90001\n",
    "            }\n",
    "        }\n",
    "    )\n",
    "    batch.put_item(\n",
    "        Item={\n",
    "            'account_type': 'super_user',\n",
    "            'username': 'janedoering',\n",
    "            'first_name': 'Jane',\n",
    "            'last_name': 'Doering',\n",
    "            'age': 40,\n",
    "            'address': {\n",
    "                'road': '2 Washington Avenue',\n",
    "                'city': 'Seattle',\n",
    "                'state': 'WA',\n",
    "                'zipcode': 98109\n",
    "            }\n",
    "        }\n",
    "    )\n",
    "    batch.put_item(\n",
    "        Item={\n",
    "            'account_type': 'standard_user',\n",
    "            'username': 'bobsmith',\n",
    "            'first_name': 'Bob',\n",
    "            'last_name':  'Smith',\n",
    "            'age': 18,\n",
    "            'address': {\n",
    "                'road': '3 Madison Lane',\n",
    "                'city': 'Louisville',\n",
    "                'state': 'KY',\n",
    "                'zipcode': 40213\n",
    "            }\n",
    "        }\n",
    "    )\n",
    "    batch.put_item(\n",
    "        Item={\n",
    "            'account_type': 'super_user',\n",
    "            'username': 'alicedoe',\n",
    "            'first_name': 'Alice',\n",
    "            'last_name': 'Doe',\n",
    "            'age': 27,\n",
    "            'address': {\n",
    "                'road': '1 Jefferson Street',\n",
    "                'city': 'Los Angeles',\n",
    "                'state': 'CA',\n",
    "                'zipcode': 90001\n",
    "            }\n",
    "        }\n",
    "    )"
   ]
  },
  {
   "cell_type": "code",
   "execution_count": 13,
   "metadata": {
    "execution": {
     "iopub.execute_input": "2022-06-08T17:26:15.042635Z",
     "iopub.status.busy": "2022-06-08T17:26:15.042409Z",
     "iopub.status.idle": "2022-06-08T17:26:15.070562Z",
     "shell.execute_reply": "2022-06-08T17:26:15.070063Z",
     "shell.execute_reply.started": "2022-06-08T17:26:15.042612Z"
    }
   },
   "outputs": [],
   "source": [
    "#Batch writing a lot\n",
    "with table.batch_writer() as batch:\n",
    "    for i in range(50):\n",
    "        batch.put_item(\n",
    "            Item={\n",
    "                'account_type': 'anonymous',\n",
    "                'username': 'user' + str(i),\n",
    "                'first_name': 'unknown',\n",
    "                'last_name': 'unknown'\n",
    "            }\n",
    "        )"
   ]
  },
  {
   "cell_type": "code",
   "execution_count": 14,
   "metadata": {
    "execution": {
     "iopub.execute_input": "2022-06-08T17:28:04.683316Z",
     "iopub.status.busy": "2022-06-08T17:28:04.683093Z",
     "iopub.status.idle": "2022-06-08T17:28:04.729097Z",
     "shell.execute_reply": "2022-06-08T17:28:04.728406Z",
     "shell.execute_reply.started": "2022-06-08T17:28:04.683292Z"
    }
   },
   "outputs": [
    {
     "name": "stdout",
     "output_type": "stream",
     "text": [
      "[{'last_name': 'Doe', 'first_name': 'John', 'username': 'johndoe', 'address': {'zipcode': Decimal('90001'), 'state': 'CA', 'road': '1 Jefferson Street', 'city': 'Los Angeles'}, 'account_type': 'standard_user', 'age': Decimal('25')}]\n"
     ]
    }
   ],
   "source": [
    "#QUERYING AND SCANNING\n",
    "from boto3.dynamodb.conditions import Key, Attr\n",
    "response = table.query(\n",
    "    KeyConditionExpression=Key('username').eq('johndoe')\n",
    ")\n",
    "items = response['Items']\n",
    "print(items)"
   ]
  },
  {
   "cell_type": "code",
   "execution_count": 15,
   "metadata": {
    "execution": {
     "iopub.execute_input": "2022-06-08T17:28:41.600755Z",
     "iopub.status.busy": "2022-06-08T17:28:41.600508Z",
     "iopub.status.idle": "2022-06-08T17:28:41.611317Z",
     "shell.execute_reply": "2022-06-08T17:28:41.610739Z",
     "shell.execute_reply.started": "2022-06-08T17:28:41.600730Z"
    }
   },
   "outputs": [
    {
     "name": "stdout",
     "output_type": "stream",
     "text": [
      "[{'last_name': 'Doe', 'first_name': 'John', 'username': 'johndoe', 'address': {'zipcode': Decimal('90001'), 'state': 'CA', 'road': '1 Jefferson Street', 'city': 'Los Angeles'}, 'account_type': 'standard_user', 'age': Decimal('25')}, {'last_name': 'Smith', 'first_name': 'Bob', 'username': 'bobsmith', 'address': {'zipcode': Decimal('40213'), 'state': 'KY', 'road': '3 Madison Lane', 'city': 'Louisville'}, 'account_type': 'standard_user', 'age': Decimal('18')}]\n"
     ]
    }
   ],
   "source": [
    "response = table.scan(\n",
    "    FilterExpression=Attr('age').lt(27)\n",
    ")\n",
    "items = response['Items']\n",
    "print(items)"
   ]
  },
  {
   "cell_type": "code",
   "execution_count": 16,
   "metadata": {
    "execution": {
     "iopub.execute_input": "2022-06-08T17:28:53.505809Z",
     "iopub.status.busy": "2022-06-08T17:28:53.505567Z",
     "iopub.status.idle": "2022-06-08T17:28:53.520856Z",
     "shell.execute_reply": "2022-06-08T17:28:53.520184Z",
     "shell.execute_reply.started": "2022-06-08T17:28:53.505783Z"
    }
   },
   "outputs": [
    {
     "name": "stdout",
     "output_type": "stream",
     "text": [
      "[{'last_name': 'Doering', 'first_name': 'Jane', 'username': 'janedoering', 'address': {'zipcode': Decimal('98109'), 'state': 'WA', 'road': '2 Washington Avenue', 'city': 'Seattle'}, 'account_type': 'super_user', 'age': Decimal('40')}]\n"
     ]
    }
   ],
   "source": [
    "response = table.scan(\n",
    "    FilterExpression=Attr('first_name').begins_with('J') & Attr('account_type').eq('super_user')\n",
    ")\n",
    "items = response['Items']\n",
    "print(items)"
   ]
  },
  {
   "cell_type": "code",
   "execution_count": 17,
   "metadata": {
    "execution": {
     "iopub.execute_input": "2022-06-08T17:29:05.909624Z",
     "iopub.status.busy": "2022-06-08T17:29:05.909390Z",
     "iopub.status.idle": "2022-06-08T17:29:05.919089Z",
     "shell.execute_reply": "2022-06-08T17:29:05.918494Z",
     "shell.execute_reply.started": "2022-06-08T17:29:05.909591Z"
    }
   },
   "outputs": [
    {
     "name": "stdout",
     "output_type": "stream",
     "text": [
      "[{'last_name': 'Doe', 'first_name': 'John', 'username': 'johndoe', 'address': {'zipcode': Decimal('90001'), 'state': 'CA', 'road': '1 Jefferson Street', 'city': 'Los Angeles'}, 'account_type': 'standard_user', 'age': Decimal('25')}, {'last_name': 'Doe', 'first_name': 'Alice', 'username': 'alicedoe', 'address': {'zipcode': Decimal('90001'), 'state': 'CA', 'road': '1 Jefferson Street', 'city': 'Los Angeles'}, 'account_type': 'super_user', 'age': Decimal('27')}]\n"
     ]
    }
   ],
   "source": [
    "response = table.scan(\n",
    "    FilterExpression=Attr('address.state').eq('CA')\n",
    ")\n",
    "items = response['Items']\n",
    "print(items)"
   ]
  },
  {
   "cell_type": "code",
   "execution_count": null,
   "metadata": {},
   "outputs": [],
   "source": [
    "#DELETING A TABLE\n",
    "table.delete()"
   ]
  }
 ],
 "metadata": {
  "kernelspec": {
   "display_name": "Python 3",
   "language": "python",
   "name": "python3"
  },
  "language_info": {
   "codemirror_mode": {
    "name": "ipython",
    "version": 3
   },
   "file_extension": ".py",
   "mimetype": "text/x-python",
   "name": "python",
   "nbconvert_exporter": "python",
   "pygments_lexer": "ipython3",
   "version": "3.8.10"
  }
 },
 "nbformat": 4,
 "nbformat_minor": 5
}
